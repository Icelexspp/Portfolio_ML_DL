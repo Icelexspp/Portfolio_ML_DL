{
 "cells": [
  {
   "cell_type": "markdown",
   "metadata": {},
   "source": [
    "## Using Keras Sequential API and Functional API"
   ]
  },
  {
   "cell_type": "code",
   "execution_count": 1,
   "metadata": {
    "ExecuteTime": {
     "end_time": "2023-07-11T05:24:12.438471Z",
     "start_time": "2023-07-11T05:24:09.288409Z"
    }
   },
   "outputs": [
    {
     "name": "stderr",
     "output_type": "stream",
     "text": [
      "C:\\Anaconda3\\envs\\gpu\\lib\\site-packages\\numpy\\_distributor_init.py:30: UserWarning: loaded more than 1 DLL from .libs:\n",
      "C:\\Anaconda3\\envs\\gpu\\lib\\site-packages\\numpy\\.libs\\libopenblas64__v0.3.21-gcc_10_3_0.dll\n",
      "C:\\Anaconda3\\envs\\gpu\\lib\\site-packages\\numpy\\.libs\\libopenblas64__v0.3.23-gcc_10_3_0.dll\n",
      "  warnings.warn(\"loaded more than 1 DLL from .libs:\"\n"
     ]
    }
   ],
   "source": [
    "import os, random, numpy as np\n",
    "import tensorflow as tf\n",
    "from tensorflow import keras\n",
    "from tensorflow.keras import layers\n",
    "from tensorflow.keras.datasets import mnist\n",
    "\n",
    "%matplotlib inline"
   ]
  },
  {
   "cell_type": "code",
   "execution_count": 2,
   "metadata": {
    "ExecuteTime": {
     "end_time": "2023-07-11T05:24:12.807690Z",
     "start_time": "2023-07-11T05:24:12.440013Z"
    }
   },
   "outputs": [],
   "source": [
    "# Load MNIST data\n",
    "\n",
    "seed_value = 1234\n",
    "\n",
    "(x_train, y_train), (x_test, y_test) = mnist.load_data()\n",
    "x_train = x_train.reshape(-1, 28 * 28).astype(\"float32\") / 255.0\n",
    "x_test = x_test.reshape(-1, 28 * 28).astype(\"float32\") / 255.0"
   ]
  },
  {
   "cell_type": "markdown",
   "metadata": {},
   "source": [
    "# Sequential API"
   ]
  },
  {
   "cell_type": "code",
   "execution_count": 3,
   "metadata": {
    "ExecuteTime": {
     "end_time": "2023-07-11T05:24:38.100876Z",
     "start_time": "2023-07-11T05:24:12.809356Z"
    }
   },
   "outputs": [
    {
     "name": "stdout",
     "output_type": "stream",
     "text": [
      "Epoch 1/5\n",
      "1875/1875 - 5s - loss: 0.1857 - accuracy: 0.9429 - 5s/epoch - 3ms/step\n",
      "Epoch 2/5\n",
      "1875/1875 - 5s - loss: 0.0787 - accuracy: 0.9757 - 5s/epoch - 3ms/step\n",
      "Epoch 3/5\n",
      "1875/1875 - 5s - loss: 0.0546 - accuracy: 0.9827 - 5s/epoch - 3ms/step\n",
      "Epoch 4/5\n",
      "1875/1875 - 5s - loss: 0.0413 - accuracy: 0.9870 - 5s/epoch - 3ms/step\n",
      "Epoch 5/5\n",
      "1875/1875 - 5s - loss: 0.0338 - accuracy: 0.9889 - 5s/epoch - 3ms/step\n",
      "313/313 - 0s - loss: 0.0699 - accuracy: 0.9803 - 389ms/epoch - 1ms/step\n",
      "\n",
      "loss = 0.0699, accuracy = 0.9803\n"
     ]
    }
   ],
   "source": [
    "# Sequential API (Very convenient, not very flexible)\n",
    "\n",
    "random.seed(seed_value)\n",
    "np.random.seed(seed_value)\n",
    "tf.random.set_seed(seed_value)\n",
    "os.environ['PYTHONHASHSEED'] = str(seed_value)\n",
    "os.environ['CUDA_VISIBLE_DEVICES'] = '-1'\n",
    "\n",
    "model_1 = keras.Sequential(\n",
    "    [\n",
    "        keras.Input(shape=(x_train.shape[-1],)),\n",
    "        layers.Dense(512, activation=\"relu\"),\n",
    "        layers.Dense(256, activation=\"relu\"),\n",
    "        layers.Dense(10),\n",
    "    ]\n",
    ")\n",
    "\n",
    "model_1.compile(\n",
    "    loss=keras.losses.SparseCategoricalCrossentropy(from_logits=True),\n",
    "    optimizer=keras.optimizers.Adam(learning_rate=0.001),\n",
    "    metrics=[\"accuracy\"],\n",
    ")\n",
    "\n",
    "model_1.fit(x_train, y_train, batch_size=32, epochs=5, verbose=2)\n",
    "print(\"\\nloss = {:.4f}, accuracy = {:.4f}\". format(*model_1.evaluate(x_test, y_test, batch_size=32, verbose=2)))"
   ]
  },
  {
   "cell_type": "code",
   "execution_count": 4,
   "metadata": {
    "ExecuteTime": {
     "end_time": "2023-07-11T05:24:38.192859Z",
     "start_time": "2023-07-11T05:24:38.102429Z"
    }
   },
   "outputs": [
    {
     "name": "stdout",
     "output_type": "stream",
     "text": [
      "Model: \"sequential_1\"\n",
      "_________________________________________________________________\n",
      " Layer (type)                Output Shape              Param #   \n",
      "=================================================================\n",
      " fc_layer1 (Dense)           (None, 512)               401920    \n",
      "                                                                 \n",
      " fc_layer2 (Dense)           (None, 256)               131328    \n",
      "                                                                 \n",
      " outputs (Dense)             (None, 10)                2570      \n",
      "                                                                 \n",
      "=================================================================\n",
      "Total params: 535,818\n",
      "Trainable params: 535,818\n",
      "Non-trainable params: 0\n",
      "_________________________________________________________________\n"
     ]
    }
   ],
   "source": [
    "# Another way to use Sequential API\n",
    "\n",
    "random.seed(seed_value)\n",
    "np.random.seed(seed_value)\n",
    "tf.random.set_seed(seed_value)\n",
    "os.environ['PYTHONHASHSEED'] = str(seed_value)\n",
    "\n",
    "model_1b = keras.Sequential()\n",
    "model_1b.add(keras.Input(shape=(x_train.shape[-1],)))\n",
    "model_1b.add(layers.Dense(512, activation=\"relu\", name=\"fc_layer1\"))\n",
    "model_1b.add(layers.Dense(256, activation=\"relu\", name=\"fc_layer2\"))\n",
    "model_1b.add(layers.Dense(10, name=\"outputs\"))\n",
    "\n",
    "model_1b.compile(\n",
    "    loss=keras.losses.SparseCategoricalCrossentropy(from_logits=True),\n",
    "    optimizer=keras.optimizers.Adam(learning_rate=0.001),\n",
    "    metrics=[\"accuracy\"]\n",
    ")\n",
    "\n",
    "model_1b.summary()"
   ]
  },
  {
   "cell_type": "code",
   "execution_count": 5,
   "metadata": {
    "ExecuteTime": {
     "end_time": "2023-07-11T05:25:03.401885Z",
     "start_time": "2023-07-11T05:24:38.197906Z"
    }
   },
   "outputs": [
    {
     "name": "stdout",
     "output_type": "stream",
     "text": [
      "Epoch 1/5\n",
      "1875/1875 - 5s - loss: 0.1857 - accuracy: 0.9429 - 5s/epoch - 3ms/step\n",
      "Epoch 2/5\n",
      "1875/1875 - 5s - loss: 0.0787 - accuracy: 0.9757 - 5s/epoch - 3ms/step\n",
      "Epoch 3/5\n",
      "1875/1875 - 5s - loss: 0.0546 - accuracy: 0.9827 - 5s/epoch - 3ms/step\n",
      "Epoch 4/5\n",
      "1875/1875 - 5s - loss: 0.0413 - accuracy: 0.9870 - 5s/epoch - 3ms/step\n",
      "Epoch 5/5\n",
      "1875/1875 - 5s - loss: 0.0338 - accuracy: 0.9889 - 5s/epoch - 3ms/step\n",
      "313/313 - 0s - loss: 0.0699 - accuracy: 0.9803 - 391ms/epoch - 1ms/step\n",
      "\n",
      "loss = 0.0699, accuracy = 0.9803\n"
     ]
    }
   ],
   "source": [
    "model_1b.fit(x_train, y_train, batch_size=32, epochs=5, verbose=2)\n",
    "print(\"\\nloss = {:.4f}, accuracy = {:.4f}\". format(*model_1b.evaluate(x_test, y_test, batch_size=32, verbose=2)))"
   ]
  },
  {
   "cell_type": "markdown",
   "metadata": {},
   "source": [
    "# Functional API"
   ]
  },
  {
   "cell_type": "code",
   "execution_count": 6,
   "metadata": {
    "ExecuteTime": {
     "end_time": "2023-07-11T05:25:28.507443Z",
     "start_time": "2023-07-11T05:25:03.403370Z"
    }
   },
   "outputs": [
    {
     "name": "stdout",
     "output_type": "stream",
     "text": [
      "Model: \"model\"\n",
      "_________________________________________________________________\n",
      " Layer (type)                Output Shape              Param #   \n",
      "=================================================================\n",
      " inputs (InputLayer)         [(None, 784)]             0         \n",
      "                                                                 \n",
      " fc_layer1 (Dense)           (None, 512)               401920    \n",
      "                                                                 \n",
      " fc_layer2 (Dense)           (None, 256)               131328    \n",
      "                                                                 \n",
      " outputs (Dense)             (None, 10)                2570      \n",
      "                                                                 \n",
      "=================================================================\n",
      "Total params: 535,818\n",
      "Trainable params: 535,818\n",
      "Non-trainable params: 0\n",
      "_________________________________________________________________\n",
      "Epoch 1/5\n",
      "1875/1875 - 5s - loss: 0.1857 - accuracy: 0.9429 - 5s/epoch - 3ms/step\n",
      "Epoch 2/5\n",
      "1875/1875 - 5s - loss: 0.0787 - accuracy: 0.9757 - 5s/epoch - 3ms/step\n",
      "Epoch 3/5\n",
      "1875/1875 - 5s - loss: 0.0546 - accuracy: 0.9827 - 5s/epoch - 3ms/step\n",
      "Epoch 4/5\n",
      "1875/1875 - 5s - loss: 0.0413 - accuracy: 0.9870 - 5s/epoch - 3ms/step\n",
      "Epoch 5/5\n",
      "1875/1875 - 5s - loss: 0.0338 - accuracy: 0.9889 - 5s/epoch - 3ms/step\n",
      "313/313 - 0s - loss: 0.0699 - accuracy: 0.9803 - 386ms/epoch - 1ms/step\n",
      "\n",
      "loss = 0.0699, accuracy = 0.9803\n"
     ]
    }
   ],
   "source": [
    "# Functional API (A bit more flexible)\n",
    "\n",
    "random.seed(seed_value)\n",
    "np.random.seed(seed_value)\n",
    "tf.random.set_seed(seed_value)\n",
    "os.environ['PYTHONHASHSEED'] = str(seed_value)\n",
    "\n",
    "inputs = keras.Input(shape=(x_train.shape[-1],), name=\"inputs\")\n",
    "x = layers.Dense(512, activation=\"relu\", name=\"fc_layer1\")(inputs)\n",
    "x = layers.Dense(256, activation=\"relu\", name=\"fc_layer2\")(x)\n",
    "outputs = layers.Dense(10, activation=\"softmax\", name=\"outputs\")(x)\n",
    "\n",
    "model_2 = keras.Model(inputs=inputs, outputs=outputs)\n",
    "\n",
    "model_2.summary()\n",
    "\n",
    "model_2.compile(\n",
    "    loss=keras.losses.SparseCategoricalCrossentropy(from_logits=False),\n",
    "    optimizer=keras.optimizers.Adam(learning_rate=0.001),\n",
    "    metrics=[\"accuracy\"],\n",
    ")\n",
    "\n",
    "model_2.fit(x_train, y_train, batch_size=32, epochs=5, verbose=2)\n",
    "print(\"\\nloss = {:.4f}, accuracy = {:.4f}\". format(*model_2.evaluate(x_test, y_test, batch_size=32, verbose=2)))"
   ]
  },
  {
   "cell_type": "markdown",
   "metadata": {},
   "source": [
    "# More on Functional API"
   ]
  },
  {
   "cell_type": "code",
   "execution_count": 7,
   "metadata": {
    "ExecuteTime": {
     "end_time": "2023-07-11T05:25:59.757735Z",
     "start_time": "2023-07-11T05:25:28.509546Z"
    }
   },
   "outputs": [
    {
     "name": "stdout",
     "output_type": "stream",
     "text": [
      "Model: \"model_1\"\n",
      "__________________________________________________________________________________________________\n",
      " Layer (type)                   Output Shape         Param #     Connected to                     \n",
      "==================================================================================================\n",
      " inputs (InputLayer)            [(None, 784)]        0           []                               \n",
      "                                                                                                  \n",
      " fc_layer1 (Dense)              (None, 512)          401920      ['inputs[0][0]']                 \n",
      "                                                                                                  \n",
      " fc_layer2 (Dense)              (None, 256)          131328      ['fc_layer1[0][0]']              \n",
      "                                                                                                  \n",
      " concat_layer1 (Concatenate)    (None, 768)          0           ['fc_layer1[0][0]',              \n",
      "                                                                  'fc_layer2[0][0]']              \n",
      "                                                                                                  \n",
      " fc_layer3 (Dense)              (None, 64)           49216       ['concat_layer1[0][0]']          \n",
      "                                                                                                  \n",
      " outputs (Dense)                (None, 10)           650         ['fc_layer3[0][0]']              \n",
      "                                                                                                  \n",
      "==================================================================================================\n",
      "Total params: 583,114\n",
      "Trainable params: 583,114\n",
      "Non-trainable params: 0\n",
      "__________________________________________________________________________________________________\n",
      "Epoch 1/5\n",
      "1875/1875 - 7s - loss: 0.1918 - accuracy: 0.9420 - 7s/epoch - 4ms/step\n",
      "Epoch 2/5\n",
      "1875/1875 - 6s - loss: 0.0824 - accuracy: 0.9744 - 6s/epoch - 3ms/step\n",
      "Epoch 3/5\n",
      "1875/1875 - 6s - loss: 0.0566 - accuracy: 0.9821 - 6s/epoch - 3ms/step\n",
      "Epoch 4/5\n",
      "1875/1875 - 6s - loss: 0.0434 - accuracy: 0.9867 - 6s/epoch - 3ms/step\n",
      "Epoch 5/5\n",
      "1875/1875 - 6s - loss: 0.0339 - accuracy: 0.9887 - 6s/epoch - 3ms/step\n",
      "313/313 - 0s - loss: 0.0770 - accuracy: 0.9792 - 451ms/epoch - 1ms/step\n",
      "\n",
      "loss = 0.0770, accuracy = 0.9792\n"
     ]
    }
   ],
   "source": [
    "# Functional API (A bit more flexible)\n",
    "\n",
    "random.seed(seed_value)\n",
    "np.random.seed(seed_value)\n",
    "tf.random.set_seed(seed_value)\n",
    "os.environ['PYTHONHASHSEED'] = str(seed_value)\n",
    "\n",
    "inputs = keras.Input(shape=(x_train.shape[-1],), name=\"inputs\")\n",
    "x1 = layers.Dense(512, activation=\"relu\", name=\"fc_layer1\")(inputs)\n",
    "x2 = layers.Dense(256, activation=\"relu\", name=\"fc_layer2\")(x1)\n",
    "x = layers.Concatenate(axis=1, name=\"concat_layer1\")([x1, x2])\n",
    "x = layers.Dense(64, activation=\"relu\", name=\"fc_layer3\")(x)\n",
    "outputs = layers.Dense(10, activation=\"softmax\", name=\"outputs\")(x)\n",
    "\n",
    "model_3 = keras.Model(inputs=inputs, outputs=outputs)\n",
    "\n",
    "model_3.summary()\n",
    "\n",
    "model_3.compile(\n",
    "    loss=keras.losses.SparseCategoricalCrossentropy(from_logits=False),\n",
    "    optimizer=keras.optimizers.Adam(learning_rate=0.001),\n",
    "    metrics=[\"accuracy\"],\n",
    ")\n",
    "\n",
    "model_3.fit(x_train, y_train, batch_size=32, epochs=5, verbose=2)\n",
    "print(\"\\nloss = {:.4f}, accuracy = {:.4f}\". format(*model_3.evaluate(x_test, y_test, batch_size=32, verbose=2)))"
   ]
  },
  {
   "cell_type": "code",
   "execution_count": null,
   "metadata": {},
   "outputs": [],
   "source": []
  }
 ],
 "metadata": {
  "kernelspec": {
   "display_name": "dl_env",
   "language": "python",
   "name": "dl_env"
  },
  "language_info": {
   "codemirror_mode": {
    "name": "ipython",
    "version": 3
   },
   "file_extension": ".py",
   "mimetype": "text/x-python",
   "name": "python",
   "nbconvert_exporter": "python",
   "pygments_lexer": "ipython3",
   "version": "3.10.11"
  }
 },
 "nbformat": 4,
 "nbformat_minor": 2
}
